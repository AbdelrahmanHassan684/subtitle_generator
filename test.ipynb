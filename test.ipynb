{
 "cells": [
  {
   "cell_type": "code",
   "execution_count": 1,
   "metadata": {},
   "outputs": [
    {
     "name": "stdout",
     "output_type": "stream",
     "text": [
      "file <_io.BufferedReader name='1.mp3'>\n",
      "Transcription(text='لا ... اعلم .. استغفر دوز بقى هذا ما لم نسمع به من قبل لا لا لا لا لا لا لا لا بارز لا .... أستغفر لا قل لا لغاية بعد الم greet ايوه اللي قلتلي inches خلي انبيعلك في بتنجين محل للبلدي استغفر شوف مش ممكن يا جماعة شوف الاشتاء لها لا فعلا الأشتاء لها والله محدم سنت مش ممكن والله محدم سنت')\n"
     ]
    }
   ],
   "source": [
    "from open_ai_utils import convert_audio_text\n",
    "\n",
    "audio_file = '1.mp3'"
   ]
  },
  {
   "cell_type": "code",
   "execution_count": 2,
   "metadata": {},
   "outputs": [
    {
     "name": "stderr",
     "output_type": "stream",
     "text": [
      "/opt/homebrew/lib/python3.11/site-packages/whisper/transcribe.py:115: UserWarning: FP16 is not supported on CPU; using FP32 instead\n",
      "  warnings.warn(\"FP16 is not supported on CPU; using FP32 instead\")\n"
     ]
    }
   ],
   "source": [
    "import whisper\n",
    "\n",
    "model = whisper.load_model(\"base\")\n",
    "result = model.transcribe(audio_file)"
   ]
  },
  {
   "cell_type": "code",
   "execution_count": 3,
   "metadata": {},
   "outputs": [
    {
     "name": "stdout",
     "output_type": "stream",
     "text": [
      "{'text': ' لا وعلى بن اشتى دوزب هذا ما لم نصح عبي من قاب لا لا لا لا لا لا لا لا لا لا أبو اشتى لا كل لا غير بعد بوقرة شطاء لا طبع نخصر دوز كل فلالك في افتنجان مخالي البلدي اشتى مش منك لك معا شوف لا فعمل لأي حد والله محدة بسادة بسادة والله محدة بسادة', 'segments': [{'id': 0, 'seek': 0, 'start': 0.0, 'end': 2.0, 'text': ' لا وعلى بن اشتى', 'tokens': [50364, 20193, 4032, 3615, 23942, 44945, 1975, 8592, 2655, 7578, 50464], 'temperature': 0.0, 'avg_logprob': -0.7168622773269128, 'compression_ratio': 1.9397590361445782, 'no_speech_prob': 0.08120909333229065}, {'id': 1, 'seek': 0, 'start': 2.0, 'end': 3.0, 'text': ' دوزب', 'tokens': [50464, 11778, 2407, 11622, 3555, 50514], 'temperature': 0.0, 'avg_logprob': -0.7168622773269128, 'compression_ratio': 1.9397590361445782, 'no_speech_prob': 0.08120909333229065}, {'id': 2, 'seek': 0, 'start': 3.0, 'end': 5.0, 'text': ' هذا ما لم نصح عبي من قاب', 'tokens': [50514, 23758, 19446, 32767, 8717, 9381, 5016, 6225, 21292, 9154, 12174, 16758, 50614], 'temperature': 0.0, 'avg_logprob': -0.7168622773269128, 'compression_ratio': 1.9397590361445782, 'no_speech_prob': 0.08120909333229065}, {'id': 3, 'seek': 0, 'start': 6.0, 'end': 7.0, 'text': ' لا', 'tokens': [50664, 20193, 50714], 'temperature': 0.0, 'avg_logprob': -0.7168622773269128, 'compression_ratio': 1.9397590361445782, 'no_speech_prob': 0.08120909333229065}, {'id': 4, 'seek': 0, 'start': 7.0, 'end': 8.0, 'text': ' لا', 'tokens': [50714, 20193, 50764], 'temperature': 0.0, 'avg_logprob': -0.7168622773269128, 'compression_ratio': 1.9397590361445782, 'no_speech_prob': 0.08120909333229065}, {'id': 5, 'seek': 0, 'start': 8.0, 'end': 9.0, 'text': ' لا', 'tokens': [50764, 20193, 50814], 'temperature': 0.0, 'avg_logprob': -0.7168622773269128, 'compression_ratio': 1.9397590361445782, 'no_speech_prob': 0.08120909333229065}, {'id': 6, 'seek': 0, 'start': 9.0, 'end': 10.0, 'text': ' لا', 'tokens': [50814, 20193, 50864], 'temperature': 0.0, 'avg_logprob': -0.7168622773269128, 'compression_ratio': 1.9397590361445782, 'no_speech_prob': 0.08120909333229065}, {'id': 7, 'seek': 0, 'start': 10.0, 'end': 11.0, 'text': ' لا', 'tokens': [50864, 20193, 50914], 'temperature': 0.0, 'avg_logprob': -0.7168622773269128, 'compression_ratio': 1.9397590361445782, 'no_speech_prob': 0.08120909333229065}, {'id': 8, 'seek': 0, 'start': 11.0, 'end': 12.0, 'text': ' لا', 'tokens': [50914, 20193, 50964], 'temperature': 0.0, 'avg_logprob': -0.7168622773269128, 'compression_ratio': 1.9397590361445782, 'no_speech_prob': 0.08120909333229065}, {'id': 9, 'seek': 0, 'start': 12.0, 'end': 13.0, 'text': ' لا', 'tokens': [50964, 20193, 51014], 'temperature': 0.0, 'avg_logprob': -0.7168622773269128, 'compression_ratio': 1.9397590361445782, 'no_speech_prob': 0.08120909333229065}, {'id': 10, 'seek': 0, 'start': 13.0, 'end': 14.0, 'text': ' لا', 'tokens': [51014, 20193, 51064], 'temperature': 0.0, 'avg_logprob': -0.7168622773269128, 'compression_ratio': 1.9397590361445782, 'no_speech_prob': 0.08120909333229065}, {'id': 11, 'seek': 0, 'start': 14.0, 'end': 15.0, 'text': ' لا', 'tokens': [51064, 20193, 51114], 'temperature': 0.0, 'avg_logprob': -0.7168622773269128, 'compression_ratio': 1.9397590361445782, 'no_speech_prob': 0.08120909333229065}, {'id': 12, 'seek': 0, 'start': 15.0, 'end': 16.0, 'text': ' لا', 'tokens': [51114, 20193, 51164], 'temperature': 0.0, 'avg_logprob': -0.7168622773269128, 'compression_ratio': 1.9397590361445782, 'no_speech_prob': 0.08120909333229065}, {'id': 13, 'seek': 0, 'start': 16.0, 'end': 17.0, 'text': ' أبو اشتى', 'tokens': [51164, 5551, 3555, 2407, 1975, 8592, 2655, 7578, 51214], 'temperature': 0.0, 'avg_logprob': -0.7168622773269128, 'compression_ratio': 1.9397590361445782, 'no_speech_prob': 0.08120909333229065}, {'id': 14, 'seek': 0, 'start': 17.0, 'end': 18.0, 'text': ' لا', 'tokens': [51214, 20193, 51264], 'temperature': 0.0, 'avg_logprob': -0.7168622773269128, 'compression_ratio': 1.9397590361445782, 'no_speech_prob': 0.08120909333229065}, {'id': 15, 'seek': 0, 'start': 18.0, 'end': 20.0, 'text': ' كل لا غير بعد بوقرة', 'tokens': [51264, 28242, 20193, 32771, 13546, 39182, 4724, 30543, 25720, 51364], 'temperature': 0.0, 'avg_logprob': -0.7168622773269128, 'compression_ratio': 1.9397590361445782, 'no_speech_prob': 0.08120909333229065}, {'id': 16, 'seek': 0, 'start': 20.0, 'end': 21.0, 'text': ' شطاء', 'tokens': [51364, 13412, 9566, 16606, 51414], 'temperature': 0.0, 'avg_logprob': -0.7168622773269128, 'compression_ratio': 1.9397590361445782, 'no_speech_prob': 0.08120909333229065}, {'id': 17, 'seek': 0, 'start': 21.0, 'end': 22.0, 'text': ' لا', 'tokens': [51414, 20193, 51464], 'temperature': 0.0, 'avg_logprob': -0.7168622773269128, 'compression_ratio': 1.9397590361445782, 'no_speech_prob': 0.08120909333229065}, {'id': 18, 'seek': 0, 'start': 22.0, 'end': 23.0, 'text': ' طبع نخصر دوز', 'tokens': [51464, 23032, 3555, 3615, 8717, 9778, 9381, 2288, 11778, 2407, 11622, 51514], 'temperature': 0.0, 'avg_logprob': -0.7168622773269128, 'compression_ratio': 1.9397590361445782, 'no_speech_prob': 0.08120909333229065}, {'id': 19, 'seek': 0, 'start': 23.0, 'end': 25.0, 'text': ' كل فلالك في افتنجان مخالي البلدي', 'tokens': [51514, 28242, 6156, 1211, 6027, 4117, 8978, 1975, 5172, 2655, 1863, 7435, 7649, 3714, 9778, 6027, 1829, 29739, 1211, 3215, 1829, 51614], 'temperature': 0.0, 'avg_logprob': -0.7168622773269128, 'compression_ratio': 1.9397590361445782, 'no_speech_prob': 0.08120909333229065}, {'id': 20, 'seek': 0, 'start': 25.0, 'end': 26.0, 'text': ' اشتى', 'tokens': [51614, 1975, 8592, 2655, 7578, 51664], 'temperature': 0.0, 'avg_logprob': -0.7168622773269128, 'compression_ratio': 1.9397590361445782, 'no_speech_prob': 0.08120909333229065}, {'id': 21, 'seek': 0, 'start': 26.0, 'end': 27.0, 'text': ' مش منك لك معا', 'tokens': [51664, 37893, 9154, 4117, 5296, 4117, 20449, 995, 51714], 'temperature': 0.0, 'avg_logprob': -0.7168622773269128, 'compression_ratio': 1.9397590361445782, 'no_speech_prob': 0.08120909333229065}, {'id': 22, 'seek': 0, 'start': 27.0, 'end': 28.0, 'text': ' شوف', 'tokens': [51714, 13412, 38688, 51764], 'temperature': 0.0, 'avg_logprob': -0.7168622773269128, 'compression_ratio': 1.9397590361445782, 'no_speech_prob': 0.08120909333229065}, {'id': 23, 'seek': 2800, 'start': 28.0, 'end': 29.0, 'text': ' لا', 'tokens': [50364, 20193, 50414], 'temperature': 0.0, 'avg_logprob': -0.5271567844209217, 'compression_ratio': 1.53125, 'no_speech_prob': 0.03609548881649971}, {'id': 24, 'seek': 2800, 'start': 29.0, 'end': 30.0, 'text': ' فعمل لأي حد', 'tokens': [50414, 6156, 25957, 1211, 5296, 10721, 1829, 11331, 3215, 50464], 'temperature': 0.0, 'avg_logprob': -0.5271567844209217, 'compression_ratio': 1.53125, 'no_speech_prob': 0.03609548881649971}, {'id': 25, 'seek': 2800, 'start': 30.0, 'end': 31.0, 'text': ' والله محدة بسادة', 'tokens': [50464, 16070, 43761, 3714, 24401, 3660, 4724, 3794, 18513, 3660, 50514], 'temperature': 0.0, 'avg_logprob': -0.5271567844209217, 'compression_ratio': 1.53125, 'no_speech_prob': 0.03609548881649971}, {'id': 26, 'seek': 2800, 'start': 31.0, 'end': 32.0, 'text': ' بسادة', 'tokens': [50514, 4724, 3794, 18513, 3660, 50564], 'temperature': 0.0, 'avg_logprob': -0.5271567844209217, 'compression_ratio': 1.53125, 'no_speech_prob': 0.03609548881649971}, {'id': 27, 'seek': 2800, 'start': 32.0, 'end': 33.0, 'text': ' والله محدة بسادة', 'tokens': [50564, 16070, 43761, 3714, 24401, 3660, 4724, 3794, 18513, 3660, 50614], 'temperature': 0.0, 'avg_logprob': -0.5271567844209217, 'compression_ratio': 1.53125, 'no_speech_prob': 0.03609548881649971}], 'language': 'ar'}\n"
     ]
    }
   ],
   "source": [
    "print(result)"
   ]
  },
  {
   "cell_type": "code",
   "execution_count": null,
   "metadata": {},
   "outputs": [],
   "source": [
    "|"
   ]
  }
 ],
 "metadata": {
  "kernelspec": {
   "display_name": "Python 3",
   "language": "python",
   "name": "python3"
  },
  "language_info": {
   "codemirror_mode": {
    "name": "ipython",
    "version": 3
   },
   "file_extension": ".py",
   "mimetype": "text/x-python",
   "name": "python",
   "nbconvert_exporter": "python",
   "pygments_lexer": "ipython3",
   "version": "3.11.6"
  }
 },
 "nbformat": 4,
 "nbformat_minor": 2
}
